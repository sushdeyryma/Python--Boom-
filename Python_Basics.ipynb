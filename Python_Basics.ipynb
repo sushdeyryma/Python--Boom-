{
  "nbformat": 4,
  "nbformat_minor": 0,
  "metadata": {
    "colab": {
      "provenance": []
    },
    "kernelspec": {
      "name": "python3",
      "display_name": "Python 3"
    },
    "language_info": {
      "name": "python"
    }
  },
  "cells": [
    {
      "cell_type": "code",
      "execution_count": 1,
      "metadata": {
        "colab": {
          "base_uri": "https://localhost:8080/"
        },
        "id": "uJGC_-FAboay",
        "outputId": "37ff2a8f-319e-4180-9da1-3a2fb9864544"
      },
      "outputs": [
        {
          "output_type": "stream",
          "name": "stdout",
          "text": [
            "Hello World!\n"
          ]
        }
      ],
      "source": [
        "#Print Hello World!\n",
        "print(\"Hello World!\")"
      ]
    },
    {
      "cell_type": "code",
      "source": [
        "# Define Variable\n",
        "\n",
        "a=3\n",
        "print (a)\n",
        "\n",
        "b= \"hello world\"\n",
        "print(b)\n",
        "\n",
        "c,d,e,f = 3,3.5, \"hello\", True\n",
        "\n",
        "print(c,d,e,f)\n",
        "\n"
      ],
      "metadata": {
        "colab": {
          "base_uri": "https://localhost:8080/"
        },
        "id": "YgWasy1sbsaV",
        "outputId": "17dcd98c-0a26-4a1b-f10a-b2dddd4353b6"
      },
      "execution_count": 6,
      "outputs": [
        {
          "output_type": "stream",
          "name": "stdout",
          "text": [
            "3\n",
            "hello world\n",
            "3 3.5 hello True\n"
          ]
        }
      ]
    },
    {
      "cell_type": "code",
      "source": [
        "#concatenate valiable and str in Python\n",
        "# Python String format() Method\n",
        "\n",
        "a= 5\n",
        "b= \"value is:\"\n",
        "\n",
        "txt = \"{} {} {} \"\n",
        "x = print(txt.format(b,a, \"dollar\"))\n",
        "\n",
        "#Check variable type\n",
        "\n",
        "print(type(a))\n",
        "print(type(b))\n",
        "print(type(x))"
      ],
      "metadata": {
        "colab": {
          "base_uri": "https://localhost:8080/"
        },
        "id": "SNlww5z7cWd4",
        "outputId": "1432e0e0-4469-4160-e35f-21c69ab77f14"
      },
      "execution_count": 13,
      "outputs": [
        {
          "output_type": "stream",
          "name": "stdout",
          "text": [
            "value is: 5 dollar \n",
            "<class 'int'>\n",
            "<class 'str'>\n",
            "<class 'NoneType'>\n"
          ]
        }
      ]
    }
  ]
}