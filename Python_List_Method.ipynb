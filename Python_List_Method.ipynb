{
  "nbformat": 4,
  "nbformat_minor": 0,
  "metadata": {
    "colab": {
      "provenance": []
    },
    "kernelspec": {
      "name": "python3",
      "display_name": "Python 3"
    },
    "language_info": {
      "name": "python"
    }
  },
  "cells": [
    {
      "cell_type": "code",
      "execution_count": null,
      "metadata": {
        "id": "5ncwB90QhKYY"
      },
      "outputs": [],
      "source": [
        "\"\"\"\n",
        "Method\t              Description\n",
        "\n",
        "reverse()\t    Reverses the order of the list\n",
        "sort()\t      Sorts the list\n",
        "append()\t    Adds an element at the end of the list\n",
        "clear()\t      Removes all the elements from the list\n",
        "copy()\t      Returns a copy of the list\n",
        "count()\t      Returns the number of elements with the specified value\n",
        "extend()\t    Add the elements of a list (or any iterable), to the end of the current list\n",
        "index()\t      Returns the index of the first element with the specified value\n",
        "insert()\t    Adds an element at the specified position\n",
        "pop()\t        Removes the element at the specified position\n",
        "remove()\t    Removes the first item with the specified value \n",
        "\n",
        "\"\"\""
      ]
    },
    {
      "cell_type": "code",
      "source": [
        "#reverse()\t    Reverses the order of the list\n",
        "\n",
        "fruits = [\"apple\",\"banana\",\"mango\"]\n",
        "fruits.reverse()\n",
        "\n",
        "print(fruits)"
      ],
      "metadata": {
        "colab": {
          "base_uri": "https://localhost:8080/"
        },
        "id": "V0Jo73djh1zz",
        "outputId": "07a2d382-7a58-414a-ccb4-d136d771f955"
      },
      "execution_count": 17,
      "outputs": [
        {
          "output_type": "stream",
          "name": "stdout",
          "text": [
            "['mango', 'banana', 'apple']\n"
          ]
        }
      ]
    },
    {
      "cell_type": "code",
      "source": [
        "#sort()\t      Sorts the list\n",
        "#sorts the list ascending by default\n",
        "\n",
        "fruits = [\"apple\", \"mango\",\"banana\"]\n",
        "fruits.sort()\n",
        "\n",
        "print(fruits)"
      ],
      "metadata": {
        "colab": {
          "base_uri": "https://localhost:8080/"
        },
        "id": "JgEhB2r5h1w5",
        "outputId": "541513b3-22b6-4d08-edd5-e4fc2e78dbdc"
      },
      "execution_count": 20,
      "outputs": [
        {
          "output_type": "stream",
          "name": "stdout",
          "text": [
            "['apple', 'banana', 'mango']\n"
          ]
        }
      ]
    },
    {
      "cell_type": "code",
      "source": [
        "# append()\t    Adds an element at the end of the list\n",
        "\n",
        "fruits = [\"apple\",\"banana\",\"mango\"]\n",
        "\n",
        "fruits.append(\"orange\")\n",
        "\n",
        "print(fruits)\n",
        "\n",
        "\n",
        "a = [1,2,3]\n",
        "b = [4,5,6]\n",
        "\n",
        "a.append(b)\n",
        "\n",
        "print(a)"
      ],
      "metadata": {
        "colab": {
          "base_uri": "https://localhost:8080/"
        },
        "id": "1q4PzFNEh16V",
        "outputId": "8d850c77-bf59-4310-9e82-1fd105fe7f8d"
      },
      "execution_count": 5,
      "outputs": [
        {
          "output_type": "stream",
          "name": "stdout",
          "text": [
            "['apple', 'banana', 'mango', 'orange']\n",
            "[1, 2, 3, [4, 5, 6]]\n"
          ]
        }
      ]
    },
    {
      "cell_type": "code",
      "source": [
        "#clear()   Removes all the elements from the list\n",
        "\n",
        "fruits = [\"apple\",\"banana\",\"mango\"]\n",
        "fruits.clear()\n",
        "\n",
        "print(fruits)"
      ],
      "metadata": {
        "colab": {
          "base_uri": "https://localhost:8080/"
        },
        "id": "AaZlFK6Wh122",
        "outputId": "ca5c7cd0-134e-4112-8837-1ad065684aed"
      },
      "execution_count": 6,
      "outputs": [
        {
          "output_type": "stream",
          "name": "stdout",
          "text": [
            "[]\n"
          ]
        }
      ]
    },
    {
      "cell_type": "code",
      "source": [
        "#copy()\t      Returns a copy of the list\n",
        "\n",
        "fruits = [\"apple\",\"banana\",\"cherry\"]\n",
        "s= fruits.copy()\n",
        "\n",
        "print(s)"
      ],
      "metadata": {
        "colab": {
          "base_uri": "https://localhost:8080/"
        },
        "id": "1gj0d1A9mE2W",
        "outputId": "f3b15f79-1f9e-4bbd-800b-8ac1c78c8a1a"
      },
      "execution_count": 7,
      "outputs": [
        {
          "output_type": "stream",
          "name": "stdout",
          "text": [
            "['apple', 'banana', 'cherry']\n"
          ]
        }
      ]
    },
    {
      "cell_type": "code",
      "source": [
        "#count()   Returns the number of elements with the specified value\n",
        "# How many times  \"cherry\" appears in the fruits list\n",
        "\n",
        "fruits = [\"cherry\",\"apple\" ,\"cherry\",\"cherry\",\"mango\",\"cherry\",\"banana\"]\n",
        "\n",
        "x= fruits.count(\"cherry\")\n",
        "\n",
        "print(x)"
      ],
      "metadata": {
        "colab": {
          "base_uri": "https://localhost:8080/"
        },
        "id": "XTdts_LKmEz7",
        "outputId": "c61464d7-36d8-482e-ebb5-7d4feed8f424"
      },
      "execution_count": 8,
      "outputs": [
        {
          "output_type": "stream",
          "name": "stdout",
          "text": [
            "4\n"
          ]
        }
      ]
    },
    {
      "cell_type": "code",
      "source": [
        "#extend()\t   Add the elements of a list (or any iterable), to the end of the current list\n",
        "#merge 2 list\n",
        "\n",
        "fruits = [\"cherry\",\"apple\" ,\"cherry\",\"cherry\",\"mango\",\"cherry\",\"banana\"]\n",
        "x= [1,2,3,4]\n",
        "\n",
        "fruits.extend(x)\n",
        "\n",
        "print(fruits)"
      ],
      "metadata": {
        "colab": {
          "base_uri": "https://localhost:8080/"
        },
        "id": "dGk1iZSbmExO",
        "outputId": "1fc14b97-80bc-4212-a962-5993bd991f5d"
      },
      "execution_count": 10,
      "outputs": [
        {
          "output_type": "stream",
          "name": "stdout",
          "text": [
            "['cherry', 'apple', 'cherry', 'cherry', 'mango', 'cherry', 'banana', 1, 2, 3, 4]\n"
          ]
        }
      ]
    },
    {
      "cell_type": "code",
      "source": [
        "#index()\t      Returns the index of the first element with the specified value\n",
        "\n",
        "x= ['cherry', 'apple', 'cherry', 'cherry', 'mango', 'cherry', 'banana', 1, 2, 3, 4]\n",
        "\n",
        "s= x.index(3)\n",
        "print(s)\n"
      ],
      "metadata": {
        "colab": {
          "base_uri": "https://localhost:8080/"
        },
        "id": "avdSO7JGmEvC",
        "outputId": "9a7dd5d7-f320-4ca5-a69d-3d74de0d453a"
      },
      "execution_count": 11,
      "outputs": [
        {
          "output_type": "stream",
          "name": "stdout",
          "text": [
            "9\n"
          ]
        }
      ]
    },
    {
      "cell_type": "code",
      "source": [
        "#insert()\t    Adds an element at the specified position\n",
        "#syntax:  list.insert(pos, elmnt)\n",
        "\n",
        "x= ['cherry', 'apple', 'cherry', 'cherry', 'mango', 'cherry', 'banana', 1, 2, 3, 4]\n",
        "x.insert(4,\"bimboo!\")\n",
        "\n",
        "print(x)"
      ],
      "metadata": {
        "colab": {
          "base_uri": "https://localhost:8080/"
        },
        "id": "TTPIIoFFmEs1",
        "outputId": "7dff5183-07ea-4214-97bd-4e105fbe23d4"
      },
      "execution_count": 13,
      "outputs": [
        {
          "output_type": "stream",
          "name": "stdout",
          "text": [
            "['cherry', 'apple', 'cherry', 'cherry', 'bimboo!', 'mango', 'cherry', 'banana', 1, 2, 3, 4]\n"
          ]
        }
      ]
    },
    {
      "cell_type": "code",
      "source": [
        "#pop()\t    Removes the element at the specified position\n",
        "#Syntax: list.pop(pos)\n",
        "\n",
        "x= ['cherry', 'apple', 'cherry', 'cherry', 'mango', 'cherry', 'banana', 1, 2, 3, 4]\n",
        "x.pop(3)\n",
        "\n",
        "print(x)"
      ],
      "metadata": {
        "colab": {
          "base_uri": "https://localhost:8080/"
        },
        "id": "yVD30XEGmEqZ",
        "outputId": "c0e36e8f-6496-4ebf-8035-f2f52c87ad2a"
      },
      "execution_count": 15,
      "outputs": [
        {
          "output_type": "stream",
          "name": "stdout",
          "text": [
            "['cherry', 'apple', 'cherry', 'mango', 'cherry', 'banana', 1, 2, 3, 4]\n"
          ]
        }
      ]
    },
    {
      "cell_type": "code",
      "source": [
        "#remove()\t   Removes the first item with the specified value\n",
        "\n",
        "x= ['cherry', 'apple', 'cherry', 'cherry', 'mango', 'cherry', 'banana', 1, 2, 3, 4]\n",
        "x.remove(\"cherry\")\n",
        "\n",
        "print(x)"
      ],
      "metadata": {
        "colab": {
          "base_uri": "https://localhost:8080/"
        },
        "id": "-aI3cfskmEnn",
        "outputId": "e5678712-aaa5-4459-e35c-22601eead676"
      },
      "execution_count": 16,
      "outputs": [
        {
          "output_type": "stream",
          "name": "stdout",
          "text": [
            "['apple', 'cherry', 'cherry', 'mango', 'cherry', 'banana', 1, 2, 3, 4]\n"
          ]
        }
      ]
    }
  ]
}