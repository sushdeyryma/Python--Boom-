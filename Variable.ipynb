{
  "cells": [
    {
      "cell_type": "markdown",
      "metadata": {
        "id": "view-in-github",
        "colab_type": "text"
      },
      "source": [
        "<a href=\"https://colab.research.google.com/github/sushdeyryma/Python--Boom-/blob/main/Variable.ipynb\" target=\"_parent\"><img src=\"https://colab.research.google.com/assets/colab-badge.svg\" alt=\"Open In Colab\"/></a>"
      ]
    },
    {
      "cell_type": "markdown",
      "source": [
        "# VARIABLE (NAME, VALUE)"
      ],
      "metadata": {
        "id": "XlEjS-sknWo2"
      }
    },
    {
      "cell_type": "markdown",
      "source": [
        "##Declared two variables here,  checkingAccount  and   savingsAccount , by storing the values 500 and 1,000, respectively."
      ],
      "metadata": {
        "id": "fDHHUhbEcy5h"
      }
    },
    {
      "cell_type": "code",
      "source": [
        "checkingAccount = 500\n",
        "savingsAccount = 1000"
      ],
      "metadata": {
        "id": "W6WxraE8cx8j"
      },
      "execution_count": 1,
      "outputs": []
    },
    {
      "cell_type": "markdown",
      "source": [
        "##These are concrete problems that can be solved with Python. Each operation will use arithmetic operators:\n",
        "\n",
        "addition : +\n",
        "\n",
        "subtraction : -\n",
        "\n",
        "multiplication : *\n",
        "\n",
        "division : /"
      ],
      "metadata": {
        "id": "3gIVECgohO80"
      }
    },
    {
      "cell_type": "markdown",
      "source": [
        "###Add some money to your savings account."
      ],
      "metadata": {
        "id": "XPzLmJ8jdPVq"
      }
    },
    {
      "cell_type": "code",
      "source": [
        "savingsAccount = savingsAccount + 1000\n",
        "print(savingsAccount)"
      ],
      "metadata": {
        "id": "jeFX8p4Icx5i",
        "outputId": "33b2830c-5d1d-42a5-b02e-a5d57b0bbaf8",
        "colab": {
          "base_uri": "https://localhost:8080/"
        }
      },
      "execution_count": 2,
      "outputs": [
        {
          "output_type": "stream",
          "name": "stdout",
          "text": [
            "2000\n"
          ]
        }
      ]
    },
    {
      "cell_type": "markdown",
      "source": [
        "###Withdraw some from your checking account.\n",
        "\n"
      ],
      "metadata": {
        "id": "Nz5-VEyxdW43"
      }
    },
    {
      "cell_type": "code",
      "source": [
        "checkingAccount = checkingAccount - 100\n",
        "print(checkingAccount)"
      ],
      "metadata": {
        "id": "5gSIhUMEeW2t",
        "outputId": "851cce1b-eb83-4fed-a96d-032551ac69d0",
        "colab": {
          "base_uri": "https://localhost:8080/"
        }
      },
      "execution_count": 3,
      "outputs": [
        {
          "output_type": "stream",
          "name": "stdout",
          "text": [
            "400\n"
          ]
        }
      ]
    },
    {
      "cell_type": "markdown",
      "source": [
        "###Calculate how long it would take you to reach $5000 when you save $500 every month."
      ],
      "metadata": {
        "id": "WsM6ldkbdcaD"
      }
    },
    {
      "cell_type": "code",
      "source": [
        "savingsAccount = 5000 - savingsAccount\n",
        "\n",
        "time_required_to_save_5000_dollar = int(savingsAccount/500)\n",
        "print(time_required_to_save_5000_dollar)"
      ],
      "metadata": {
        "id": "DScQhdDxerqT",
        "outputId": "c41f6fd2-0d3e-4c4e-fb44-67eddad2f09c",
        "colab": {
          "base_uri": "https://localhost:8080/"
        }
      },
      "execution_count": 4,
      "outputs": [
        {
          "output_type": "stream",
          "name": "stdout",
          "text": [
            "6\n"
          ]
        }
      ]
    },
    {
      "cell_type": "markdown",
      "source": [
        "###Calculate how much would be in your checking account if you added $30 every day for a week."
      ],
      "metadata": {
        "id": "I4CKP9NvdcWd"
      }
    },
    {
      "cell_type": "code",
      "source": [
        "checkingAccount = checkingAccount + (7*30)"
      ],
      "metadata": {
        "id": "-LS5MmnmfsW9"
      },
      "execution_count": 5,
      "outputs": []
    },
    {
      "cell_type": "code",
      "source": [
        "print(\"Checking Account balance will be: $\",checkingAccount)"
      ],
      "metadata": {
        "id": "hRFUNAUlf3ZR",
        "outputId": "4610cdc2-53c0-4937-9718-404317d77172",
        "colab": {
          "base_uri": "https://localhost:8080/"
        }
      },
      "execution_count": 6,
      "outputs": [
        {
          "output_type": "stream",
          "name": "stdout",
          "text": [
            "Checking Account balance will be: $ 610\n"
          ]
        }
      ]
    },
    {
      "cell_type": "markdown",
      "source": [
        "###Calculate how much would be in your checking account if you spent $10 every day"
      ],
      "metadata": {
        "id": "2bGyqHPndcTe"
      }
    },
    {
      "cell_type": "code",
      "source": [
        "checkingAccount = checkingAccount - (10*7)"
      ],
      "metadata": {
        "id": "bQi7qpbtgWwO"
      },
      "execution_count": 7,
      "outputs": []
    },
    {
      "cell_type": "code",
      "source": [
        "print(\"Checking account new balance will be: $\", checkingAccount)"
      ],
      "metadata": {
        "id": "KeS_3qebgkbE",
        "outputId": "3c78e10b-1e6e-4b90-b559-5b3cd3708540",
        "colab": {
          "base_uri": "https://localhost:8080/"
        }
      },
      "execution_count": 8,
      "outputs": [
        {
          "output_type": "stream",
          "name": "stdout",
          "text": [
            "Checking account new balance will be: $ 540\n"
          ]
        }
      ]
    },
    {
      "cell_type": "markdown",
      "source": [
        "## %  modulo : returns the remainder of the euclidean division\n",
        "\n",
        "## **  power : raises a number to a certain power\n",
        "\n",
        "## //  integer division: calculates the integer division (rounded down)"
      ],
      "metadata": {
        "id": "H3kJ9m4kdcO_"
      }
    },
    {
      "cell_type": "code",
      "source": [
        "checkingAccount = 500\n",
        "print(checkingAccount)\n",
        "\n",
        "#raises a number to a certain power\n",
        "checkingAccount **= 2\n",
        "print(checkingAccount)\n",
        "\n",
        "#calculates the integer division (rounded down)\n",
        "checkingAccount //= 2\n",
        "print(checkingAccount)\n",
        "\n",
        "#returns the remainder of the euclidean division\n",
        "checkingAccount %= 3\n",
        "print(checkingAccount)"
      ],
      "metadata": {
        "id": "XA0RpuUqlvHz",
        "outputId": "b42370b0-ca82-4fb0-9a4d-57831ad55845",
        "colab": {
          "base_uri": "https://localhost:8080/"
        }
      },
      "execution_count": 9,
      "outputs": [
        {
          "output_type": "stream",
          "name": "stdout",
          "text": [
            "500\n",
            "250000\n",
            "125000\n",
            "2\n"
          ]
        }
      ]
    },
    {
      "cell_type": "markdown",
      "source": [
        "## Write Shorter Code with Simplified Operators\n",
        "\n",
        "-=  for subtraction\n",
        "\n",
        "*=  for multiplication\n",
        "\n",
        "/=  for division\n",
        "\n",
        "%=  for the remainder of the integer division"
      ],
      "metadata": {
        "id": "BgfvJ208dbd4"
      }
    },
    {
      "cell_type": "code",
      "source": [
        "print(savingsAccount)\n",
        "\n",
        "#long_version\n",
        "savings_Account = savingsAccount + 100\n",
        "print(savings_Account)\n",
        "\n",
        "\n",
        "#short_version\n",
        "\n",
        "savingsAccount += 100\n",
        "print(savingsAccount)\n",
        "\n",
        "savingsAccount -= 100\n",
        "print(savingsAccount)\n",
        "\n",
        "savingsAccount *= 100\n",
        "print(savingsAccount)\n",
        "\n",
        "savingsAccount /= 100\n",
        "print(savingsAccount)\n",
        "\n",
        "savingsAccount %= 100\n",
        "print(savingsAccount)"
      ],
      "metadata": {
        "id": "tFtaXJRYcx1w",
        "outputId": "040a8201-4161-4d2b-cde5-42e513868532",
        "colab": {
          "base_uri": "https://localhost:8080/"
        }
      },
      "execution_count": 10,
      "outputs": [
        {
          "output_type": "stream",
          "name": "stdout",
          "text": [
            "3000\n",
            "3100\n",
            "3100\n",
            "3000\n",
            "300000\n",
            "3000.0\n",
            "0.0\n"
          ]
        }
      ]
    },
    {
      "cell_type": "markdown",
      "source": [
        "##Different types of variables in Python\n",
        "\n",
        "Integer variables (int)\n",
        "\n",
        "Decimal variables (float)\n",
        "\n",
        "Character strings (string)"
      ],
      "metadata": {
        "id": "RRlBrldRlN0b"
      }
    },
    {
      "cell_type": "code",
      "source": [
        "int_variable = 100\n",
        "decimal_variable = 3.9\n",
        "character_variable = \"string\""
      ],
      "metadata": {
        "id": "gF8IU_cTcxy7"
      },
      "execution_count": 11,
      "outputs": []
    }
  ],
  "metadata": {
    "colab": {
      "provenance": [],
      "include_colab_link": true
    },
    "kernelspec": {
      "display_name": "Python 3",
      "name": "python3"
    }
  },
  "nbformat": 4,
  "nbformat_minor": 0
}