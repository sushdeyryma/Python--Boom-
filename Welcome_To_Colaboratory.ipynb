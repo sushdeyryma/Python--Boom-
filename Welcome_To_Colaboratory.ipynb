{
  "cells": [
    {
      "cell_type": "markdown",
      "metadata": {
        "id": "view-in-github",
        "colab_type": "text"
      },
      "source": [
        "<a href=\"https://colab.research.google.com/github/sushdeyryma/Python--Boom-/blob/main/Welcome_To_Colaboratory.ipynb\" target=\"_parent\"><img src=\"https://colab.research.google.com/assets/colab-badge.svg\" alt=\"Open In Colab\"/></a>"
      ]
    },
    {
      "cell_type": "markdown",
      "source": [
        "#PYTHON-STRING CODING- PART A\n"
      ],
      "metadata": {
        "id": "Og-wz6ByzPnd"
      }
    },
    {
      "cell_type": "markdown",
      "source": [
        "## 1. Write a Program To REVERSE content of the given String by using slice operator?"
      ],
      "metadata": {
        "id": "odIwJq0Kze7D"
      }
    },
    {
      "cell_type": "code",
      "source": [
        "string = input(\"Enter a string: \")\n",
        "reverse_string = string[::-1]\n",
        "print(reverse_string)"
      ],
      "metadata": {
        "id": "nj0AbE9ZzNZv",
        "outputId": "3f9fc052-ce6d-4938-8689-4eeb4a8b2c44",
        "colab": {
          "base_uri": "https://localhost:8080/"
        }
      },
      "execution_count": 21,
      "outputs": [
        {
          "output_type": "stream",
          "name": "stdout",
          "text": [
            "Enter a string: pleasure\n",
            "erusaelp\n"
          ]
        }
      ]
    },
    {
      "cell_type": "markdown",
      "source": [
        "## 2. Write a Program To REVERSE content of the given String by using reversed() function?"
      ],
      "metadata": {
        "id": "CLET4N-w0eGw"
      }
    },
    {
      "cell_type": "code",
      "source": [
        "string = input(\"Enter a string: \")\n",
        "reverse_string_list = (reversed(string))\n",
        "reverse_string =\"\".join(reverse_string_list)\n",
        "print(reverse_string)"
      ],
      "metadata": {
        "id": "RiqBjqkfzNWi",
        "outputId": "fe8e9a6a-9830-46af-9c39-ca627cc62234",
        "colab": {
          "base_uri": "https://localhost:8080/"
        }
      },
      "execution_count": 22,
      "outputs": [
        {
          "output_type": "stream",
          "name": "stdout",
          "text": [
            "Enter a string: haters\n",
            "sretah\n"
          ]
        }
      ]
    },
    {
      "cell_type": "markdown",
      "source": [
        "##3. Write a Program To REVERSE content of the given String by using while loop?"
      ],
      "metadata": {
        "id": "HNydcjHY1YqX"
      }
    },
    {
      "cell_type": "code",
      "source": [
        "string = input(\"Enter a string: \")\n",
        "\n",
        "reverse_string =\"\"\n",
        "\n",
        "i = len(string)-1\n",
        "while i>=0:\n",
        "  reverse_string = reverse_string + string[i]\n",
        "  i = i-1\n",
        "\n",
        "print(reverse_string)"
      ],
      "metadata": {
        "id": "t3vyH6GvzNT4",
        "outputId": "b53854f2-b3b5-4544-c9ab-79f4cd08e8c5",
        "colab": {
          "base_uri": "https://localhost:8080/"
        }
      },
      "execution_count": 23,
      "outputs": [
        {
          "output_type": "stream",
          "name": "stdout",
          "text": [
            "Enter a string: hello\n",
            "olleh\n"
          ]
        }
      ]
    },
    {
      "cell_type": "markdown",
      "source": [
        "## 4. Write a Program To REVERSE order of words present in the given string?"
      ],
      "metadata": {
        "id": "c3x7J8Tm2W9S"
      }
    },
    {
      "cell_type": "code",
      "source": [
        "string= input(\"enter a string: \")\n",
        "\n",
        "l = string.split()\n",
        "l1 = l[::-1]\n",
        "reverse_string = \" \".join(l1)\n",
        "\n",
        "print(l1)\n",
        "print(reverse_string)"
      ],
      "metadata": {
        "id": "deQgERSczNLJ",
        "outputId": "e4421c30-6496-435d-edd6-7cdaf77476ba",
        "colab": {
          "base_uri": "https://localhost:8080/"
        }
      },
      "execution_count": 24,
      "outputs": [
        {
          "output_type": "stream",
          "name": "stdout",
          "text": [
            "enter a string: i love my maa\n",
            "['maa', 'my', 'love', 'i']\n",
            "maa my love i\n"
          ]
        }
      ]
    },
    {
      "cell_type": "markdown",
      "source": [
        "## 5. Write a Program To REVERSE internal content of each word?"
      ],
      "metadata": {
        "id": "Nkk3W8b7dcQB"
      }
    },
    {
      "cell_type": "code",
      "source": [
        "string= input(\"enter a string: \")\n",
        "\n",
        "l = string.split()\n",
        "l1 = []\n",
        "for word in l:\n",
        "  l1.append(word[::-1])\n",
        "\n",
        "print(l1)\n",
        "\n",
        "reverse_string = \" \".join(l1)\n",
        "print(reverse_string)"
      ],
      "metadata": {
        "id": "vst1-JjmzNH-",
        "outputId": "9c6273ad-be3b-4aef-e3ca-458fed66ec3c",
        "colab": {
          "base_uri": "https://localhost:8080/"
        }
      },
      "execution_count": 25,
      "outputs": [
        {
          "output_type": "stream",
          "name": "stdout",
          "text": [
            "enter a string: go to hell\n",
            "['og', 'ot', 'lleh']\n",
            "og ot lleh\n"
          ]
        }
      ]
    },
    {
      "cell_type": "markdown",
      "source": [
        "## 6. Write a Program To REVERSE internal content of every second word present in the given string?"
      ],
      "metadata": {
        "id": "3JnZHR91jDdr"
      }
    },
    {
      "cell_type": "code",
      "source": [
        "string= input(\"enter a string: \")\n",
        "\n",
        "list_0 = string.split()\n",
        "i=0\n",
        "list_1 = []\n",
        "while i<len(list_0):\n",
        "  if i%2 == 0:\n",
        "    list_1.append(list_0[i])\n",
        "  else:\n",
        "    list_1.append(list_0[i][::-1])\n",
        "  i = i+1\n",
        "print(list_1)\n",
        "\n",
        "reverse_string = \" \".join(list_1)\n",
        "print(reverse_string)\n"
      ],
      "metadata": {
        "id": "vwogoRAazNEo",
        "outputId": "27f3ec0f-9e37-4860-b69f-1ec1f6b973b0",
        "colab": {
          "base_uri": "https://localhost:8080/"
        }
      },
      "execution_count": 28,
      "outputs": [
        {
          "output_type": "stream",
          "name": "stdout",
          "text": [
            "enter a string: i love my motherland\n",
            "['i', 'evol', 'my', 'dnalrehtom']\n",
            "i evol my dnalrehtom\n"
          ]
        }
      ]
    }
  ],
  "metadata": {
    "colab": {
      "name": "Welcome To Colaboratory",
      "toc_visible": true,
      "provenance": [],
      "include_colab_link": true
    },
    "kernelspec": {
      "display_name": "Python 3",
      "name": "python3"
    }
  },
  "nbformat": 4,
  "nbformat_minor": 0
}