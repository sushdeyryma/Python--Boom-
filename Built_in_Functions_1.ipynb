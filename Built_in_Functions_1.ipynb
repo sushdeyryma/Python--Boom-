{
  "nbformat": 4,
  "nbformat_minor": 0,
  "metadata": {
    "colab": {
      "provenance": []
    },
    "kernelspec": {
      "name": "python3",
      "display_name": "Python 3"
    },
    "language_info": {
      "name": "python"
    }
  },
  "cells": [
    {
      "cell_type": "code",
      "execution_count": null,
      "metadata": {
        "id": "VSZc9ar0shYc"
      },
      "outputs": [],
      "source": [
        "\"\"\"\n",
        "Python has a set of built-in functions.\n",
        "\n",
        "Function\t                        Description\n",
        "abs()\t                  Returns the absolute value of a number\n",
        "all()\t                  Returns True if all items in an iterable object are true\n",
        "any()\t                  Returns True if any item in an iterable object is true\n",
        "ascii()\t                Returns a readable version of an object. Replaces none-ascii characters with escape character\n",
        "bin()\t                  Returns the binary version of a number\n",
        "bool()                \tReturns the boolean value of the specified object\n",
        "bytearray()\t            Returns an array of bytes\n",
        "bytes()\t                Returns a bytes object\n",
        "\n",
        "\"\"\""
      ]
    },
    {
      "cell_type": "code",
      "source": [
        "# abs()\t                  Returns the absolute value of a number\n",
        "# Syntax: abs(n)\n",
        "\n",
        "x = abs(3+5j)\n",
        "print(x)\n",
        "\n",
        "y = abs(-2.30097)\n",
        "print(y)"
      ],
      "metadata": {
        "id": "Co7BXO-5zS0k",
        "colab": {
          "base_uri": "https://localhost:8080/"
        },
        "outputId": "445f3e96-194c-4c9f-dedd-f4b085236d6c"
      },
      "execution_count": null,
      "outputs": [
        {
          "output_type": "stream",
          "name": "stdout",
          "text": [
            "5.830951894845301\n",
            "2.30097\n"
          ]
        }
      ]
    },
    {
      "cell_type": "code",
      "source": [
        "# all()\t                  Returns True if all items in an iterable object are true\n",
        "'''\n",
        "# The all() function returns True if all items in an iterable are true, otherwise it returns False. \n",
        "If the iterable object is empty, the all() function also returns True.\n",
        "\n",
        "# Syntax: all(iterable)\n",
        "\n",
        "# iterable\tAn iterable object (list, tuple, dictionary)\n",
        "\n",
        "'''\n",
        "\n",
        "# Check if all items in a list are True:\n",
        "mylist = [1, 1, 1]\n",
        "x = all(mylist)\n",
        "print(x)\n",
        "\n",
        "# Check if all items in a tuple are True:\n",
        "mytuple = (0, True, False)\n",
        "x = all(mytuple)\n",
        "print(x)\n",
        "\n",
        "# Check if all items in a set are True:\n",
        "myset = {0, 1, 0}\n",
        "x = all(myset)\n",
        "print(x)\n",
        "\n",
        "# Check if all items in a dictionary are True:\n",
        "mydict = {0 : \"Apple\", 1 : \"Orange\"}\n",
        "x = all(mydict)\n",
        "print(x)"
      ],
      "metadata": {
        "colab": {
          "base_uri": "https://localhost:8080/"
        },
        "id": "_O7HSx0KVLao",
        "outputId": "fccf9760-48a0-45eb-9884-ec7485709406"
      },
      "execution_count": null,
      "outputs": [
        {
          "output_type": "stream",
          "name": "stdout",
          "text": [
            "True\n",
            "False\n",
            "False\n",
            "False\n"
          ]
        }
      ]
    },
    {
      "cell_type": "code",
      "source": [
        "# ascii()\t                Returns a readable version of an object. Replaces none-ascii characters with escape character\n",
        "\n",
        "'''\n",
        "# The ascii() function returns a readable version of any object (Strings, Tuples, Lists, etc).\n",
        "The ascii() function will replace any non-ascii characters with escape characters:\n",
        "\n",
        "# å will be replaced with \\xe5.\n",
        "\n",
        "'''\n",
        "\n",
        "x = ascii(\"My name is Ståle\")\n",
        "print(x)"
      ],
      "metadata": {
        "colab": {
          "base_uri": "https://localhost:8080/"
        },
        "id": "uoPvvqIbhV2v",
        "outputId": "64a2ba98-d29b-42c2-e120-2374d72bdcea"
      },
      "execution_count": 1,
      "outputs": [
        {
          "output_type": "stream",
          "name": "stdout",
          "text": [
            "'My name is St\\xe5le'\n"
          ]
        }
      ]
    },
    {
      "cell_type": "code",
      "source": [
        "# any()\t                  Returns True if any item in an iterable object is true\n",
        "'''\n",
        "# The any() function returns True if any item in an iterable are true, otherwise it returns False.\n",
        "If the iterable object is empty, the any() function will return False.\n",
        "\n",
        "Syntax: any(iterable)\n",
        "'''\n",
        "\n",
        "# Check if any of the items in a list are True:\n",
        "mylist = [False, True, False]\n",
        "x = any(mylist)\n",
        "print(x)\n",
        "\n",
        "# Check if any item in a tuple is True:\n",
        "mytuple = (0, 1, False)\n",
        "x = any(mytuple)\n",
        "print(x)\n",
        "\n",
        "# Check if any item in a set is True:\n",
        "myset = {0, 0, 0}\n",
        "x = any(myset)\n",
        "print(x)\n",
        "\n",
        "# Check if any item in a dictionary is True:\n",
        "mydict = {0 : \"Apple\", 1 : \"Orange\"}\n",
        "x = any(mydict)\n",
        "print(x)\n"
      ],
      "metadata": {
        "colab": {
          "base_uri": "https://localhost:8080/"
        },
        "id": "ZMDFvxBxVLXz",
        "outputId": "0de6261b-d83e-42b7-c5f1-dfc627f13f9a"
      },
      "execution_count": null,
      "outputs": [
        {
          "output_type": "stream",
          "name": "stdout",
          "text": [
            "True\n",
            "True\n",
            "False\n",
            "True\n"
          ]
        }
      ]
    },
    {
      "cell_type": "code",
      "source": [
        "# bin()\t                  Returns the binary version of a number\n",
        "\n",
        "x = bin(36)\n",
        "print(x)\n"
      ],
      "metadata": {
        "id": "eQq_HlmFVLSz",
        "colab": {
          "base_uri": "https://localhost:8080/"
        },
        "outputId": "ec632b2b-9896-4a2d-dab6-3b1c88473910"
      },
      "execution_count": 2,
      "outputs": [
        {
          "output_type": "stream",
          "name": "stdout",
          "text": [
            "0b100100\n"
          ]
        }
      ]
    },
    {
      "cell_type": "code",
      "source": [
        "# bool()                \tReturns the boolean value of the specified object\n",
        "'''\n",
        "The bool() function returns the boolean value of a specified object.\n",
        "\n",
        "The object will always return True, unless:\n",
        "\n",
        "The object is empty, like [], (), {}\n",
        "The object is False\n",
        "The object is 0\n",
        "The object is None\n",
        "\n",
        "'''\n",
        "\n",
        "x = bool(1)\n",
        "print(x)"
      ],
      "metadata": {
        "id": "HYQyCS1RVLQF",
        "colab": {
          "base_uri": "https://localhost:8080/"
        },
        "outputId": "ba40802c-1a34-43d4-deed-a9ea4120d45c"
      },
      "execution_count": 3,
      "outputs": [
        {
          "output_type": "stream",
          "name": "stdout",
          "text": [
            "True\n"
          ]
        }
      ]
    },
    {
      "cell_type": "code",
      "source": [
        "# bytearray()\t            Returns an array of bytes\n",
        "\n",
        "'''\n",
        "#The bytearray() function returns a bytearray object.\n",
        "It can convert objects into bytearray objects, or create empty bytearray object of the specified size.\n",
        "\n",
        "#Syntax: bytearray(x, encoding, error)\n",
        "\n",
        "\n",
        "Parameter\t                  Description\n",
        "\n",
        "x\t               A source to use when creating the bytearray object. If it is an integer, an empty bytearray object of the specified size will be created.\n",
        "                 If it is a String, make sure you specify the encoding of the source.\n",
        "\n",
        "encoding\t       The encoding of the string\n",
        "\n",
        "error\t           Specifies what to do if the encoding fails.\n",
        "\n",
        "\n",
        "'''\n",
        "\n",
        "x = bytearray(4)\n",
        "print(x)"
      ],
      "metadata": {
        "id": "jS-EQsFnVLNj",
        "colab": {
          "base_uri": "https://localhost:8080/"
        },
        "outputId": "b4750566-2063-4f35-e297-c7dbac83fc73"
      },
      "execution_count": 4,
      "outputs": [
        {
          "output_type": "stream",
          "name": "stdout",
          "text": [
            "bytearray(b'\\x00\\x00\\x00\\x00')\n"
          ]
        }
      ]
    },
    {
      "cell_type": "code",
      "source": [
        "# bytes()\t                Returns a bytes object\n",
        "\n",
        "'''\n",
        "# The bytes() function returns a bytes object.\n",
        "It can convert objects into bytes objects, or create empty bytes object of the specified size.\n",
        "\n",
        "# The difference between bytes() and bytearray() is that bytes() returns an object that cannot be modified, and bytearray() returns an object that can be modified.\n",
        "\n",
        "#Syntax: bytes(x, encoding, error)\n",
        "\n",
        "Parameter\t                Description\n",
        "x\t                A source to use when creating the bytes object. If it is an integer, an empty bytes object of the specified size will be created.\n",
        "                  If it is a String, make sure you specify the encoding of the source.\n",
        "\n",
        "encoding\t        The encoding of the string\n",
        "\n",
        "error\t            Specifies what to do if the encoding fails.\n",
        "'''\n",
        "\n",
        "x = bytes(4)\n",
        "print(x)\n"
      ],
      "metadata": {
        "id": "QD8V-oMKVLKs",
        "colab": {
          "base_uri": "https://localhost:8080/"
        },
        "outputId": "daf1de59-89b6-4db4-9115-d24ff3791a38"
      },
      "execution_count": 5,
      "outputs": [
        {
          "output_type": "stream",
          "name": "stdout",
          "text": [
            "b'\\x00\\x00\\x00\\x00'\n"
          ]
        }
      ]
    },
    {
      "cell_type": "code",
      "source": [],
      "metadata": {
        "id": "V9BMbsrYp05o"
      },
      "execution_count": null,
      "outputs": []
    }
  ]
}